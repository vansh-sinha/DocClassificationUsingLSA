{
  "nbformat": 4,
  "nbformat_minor": 0,
  "metadata": {
    "colab": {
      "name": "DocClassificationUsingLSA.ipynb",
      "provenance": []
    },
    "kernelspec": {
      "name": "python3",
      "display_name": "Python 3"
    }
  },
  "cells": [
    {
      "cell_type": "code",
      "metadata": {
        "id": "GSy4iowcBZQP"
      },
      "source": [
        "doc1 = \"Data Science Machine Learning\"\n",
        "doc2 = \"Money fun Family Kids home\"\n",
        "doc3 = \"Programming Java Data Structures\"\n",
        "doc4 = \"Chairs Tables Calender Post-its Mask Key\"\n",
        "doc5 = \"Love food health games energy fun\"\n",
        "doc6 = \"Algorithms Data Computers\"\n",
        "doc7 = \"Mobile Television Laptop Tablet\"\n",
        "doc8 = \"Doors Windows Garage Cars\"\n",
        "doc9 = \"Museum Sculptures Statues Potraits\"\n",
        "doc10 = \"Intelligence Cellular Processor Graphics Interface\"\n",
        "\n",
        "# combine documents\n",
        "doc_complete = [doc1, doc2, doc3, doc4, doc5, doc6, doc7, doc8, doc9, doc10]"
      ],
      "execution_count": null,
      "outputs": []
    },
    {
      "cell_type": "code",
      "metadata": {
        "id": "9OaUSgVjDBMa",
        "colab": {
          "base_uri": "https://localhost:8080/",
          "height": 187
        },
        "outputId": "2c1d12d3-b4be-4b06-ffe4-83b3ebf44624"
      },
      "source": [
        "doc_complete"
      ],
      "execution_count": null,
      "outputs": [
        {
          "output_type": "execute_result",
          "data": {
            "text/plain": [
              "['Data Science Machine Learning',\n",
              " 'Money fun Family Kids home',\n",
              " 'Programming Java Data Structures',\n",
              " 'Chairs Tables Calender Post-its Mask Key',\n",
              " 'Love food health games energy fun',\n",
              " 'Algorithms Data Computers',\n",
              " 'Mobile Television Laptop Tablet',\n",
              " 'Doors Windows Garage Cars',\n",
              " 'Museum Sculptures Statues Potraits',\n",
              " 'Intelligence Cellular Processor Graphics Interface']"
            ]
          },
          "metadata": {
            "tags": []
          },
          "execution_count": 24
        }
      ]
    },
    {
      "cell_type": "code",
      "metadata": {
        "id": "Cp5Zbr5VDDpb"
      },
      "source": [
        "from sklearn.feature_extraction.text import TfidfVectorizer\n",
        "vectorizer = TfidfVectorizer()"
      ],
      "execution_count": null,
      "outputs": []
    },
    {
      "cell_type": "code",
      "metadata": {
        "id": "9w5LGZteDLhh",
        "colab": {
          "base_uri": "https://localhost:8080/",
          "height": 799
        },
        "outputId": "d3f5cf5e-a720-4d6a-803f-00d09c0d100f"
      },
      "source": [
        "X =vectorizer.fit_transform(doc_complete)\n",
        "print(X)"
      ],
      "execution_count": null,
      "outputs": [
        {
          "output_type": "stream",
          "text": [
            "  (0, 24)\t0.5305108057393491\n",
            "  (0, 26)\t0.5305108057393491\n",
            "  (0, 35)\t0.5305108057393491\n",
            "  (0, 6)\t0.3945565295130217\n",
            "  (1, 16)\t0.4601578921271882\n",
            "  (1, 22)\t0.4601578921271882\n",
            "  (1, 9)\t0.4601578921271882\n",
            "  (1, 11)\t0.3911762483232489\n",
            "  (1, 29)\t0.4601578921271882\n",
            "  (2, 38)\t0.5305108057393491\n",
            "  (2, 20)\t0.5305108057393491\n",
            "  (2, 34)\t0.5305108057393491\n",
            "  (2, 6)\t0.3945565295130217\n",
            "  (3, 21)\t0.3779644730092272\n",
            "  (3, 27)\t0.3779644730092272\n",
            "  (3, 19)\t0.3779644730092272\n",
            "  (3, 31)\t0.3779644730092272\n",
            "  (3, 1)\t0.3779644730092272\n",
            "  (3, 39)\t0.3779644730092272\n",
            "  (3, 4)\t0.3779644730092272\n",
            "  (4, 8)\t0.41802398937415175\n",
            "  (4, 12)\t0.41802398937415175\n",
            "  (4, 15)\t0.41802398937415175\n",
            "  (4, 10)\t0.41802398937415175\n",
            "  (4, 25)\t0.41802398937415175\n",
            "  (4, 11)\t0.35535858163071754\n",
            "  (5, 5)\t0.62583987960545\n",
            "  (5, 0)\t0.62583987960545\n",
            "  (5, 6)\t0.4654555727358646\n",
            "  (6, 40)\t0.5\n",
            "  (6, 23)\t0.5\n",
            "  (6, 41)\t0.5\n",
            "  (6, 28)\t0.5\n",
            "  (7, 2)\t0.5\n",
            "  (7, 13)\t0.5\n",
            "  (7, 42)\t0.5\n",
            "  (7, 7)\t0.5\n",
            "  (8, 32)\t0.5\n",
            "  (8, 37)\t0.5\n",
            "  (8, 36)\t0.5\n",
            "  (8, 30)\t0.5\n",
            "  (9, 18)\t0.4472135954999579\n",
            "  (9, 14)\t0.4472135954999579\n",
            "  (9, 33)\t0.4472135954999579\n",
            "  (9, 3)\t0.4472135954999579\n",
            "  (9, 17)\t0.4472135954999579\n"
          ],
          "name": "stdout"
        }
      ]
    },
    {
      "cell_type": "code",
      "metadata": {
        "id": "dxvMzfYaDMYy"
      },
      "source": [
        "from sklearn.decomposition import TruncatedSVD\n",
        "lsa = TruncatedSVD(n_components=2,n_iter=100)"
      ],
      "execution_count": null,
      "outputs": []
    },
    {
      "cell_type": "code",
      "metadata": {
        "id": "eS0Qfi7yDXRa",
        "colab": {
          "base_uri": "https://localhost:8080/",
          "height": 51
        },
        "outputId": "c63efe06-7b67-4d50-a262-9194bed9fc45"
      },
      "source": [
        "lsa.fit(X)"
      ],
      "execution_count": null,
      "outputs": [
        {
          "output_type": "execute_result",
          "data": {
            "text/plain": [
              "TruncatedSVD(algorithm='randomized', n_components=2, n_iter=100,\n",
              "             random_state=None, tol=0.0)"
            ]
          },
          "metadata": {
            "tags": []
          },
          "execution_count": 28
        }
      ]
    },
    {
      "cell_type": "code",
      "metadata": {
        "id": "fnrlnM4wDaw4"
      },
      "source": [
        "terms = vectorizer.get_feature_names()"
      ],
      "execution_count": null,
      "outputs": []
    },
    {
      "cell_type": "code",
      "metadata": {
        "id": "4rFVxAFIDdJm",
        "colab": {
          "base_uri": "https://localhost:8080/",
          "height": 833
        },
        "outputId": "22ab45bd-7cb2-43c6-cb8e-1daadc9af21d"
      },
      "source": [
        "for i,comp in enumerate(lsa.components_):\n",
        "    termsInComp = zip(terms,comp)\n",
        "    sortedterms = sorted(termsInComp, key=lambda x: x[1],reverse=True)[:22]\n",
        "    print(\"Concept %d:\" % i)\n",
        "    for term in sortedterms:\n",
        "        print(term[0])\n",
        "    print(\" \")"
      ],
      "execution_count": null,
      "outputs": [
        {
          "output_type": "stream",
          "text": [
            "Concept 0:\n",
            "data\n",
            "computers\n",
            "algorithms\n",
            "learning\n",
            "machine\n",
            "science\n",
            "java\n",
            "programming\n",
            "structures\n",
            "home\n",
            "kids\n",
            "money\n",
            "family\n",
            "fun\n",
            "windows\n",
            "garage\n",
            "doors\n",
            "cars\n",
            "calender\n",
            "tables\n",
            "its\n",
            "key\n",
            " \n",
            "Concept 1:\n",
            "fun\n",
            "family\n",
            "home\n",
            "kids\n",
            "money\n",
            "energy\n",
            "food\n",
            "games\n",
            "health\n",
            "love\n",
            "algorithms\n",
            "computers\n",
            "cellular\n",
            "graphics\n",
            "intelligence\n",
            "interface\n",
            "processor\n",
            "data\n",
            "science\n",
            "learning\n",
            "machine\n",
            "museum\n",
            " \n"
          ],
          "name": "stdout"
        }
      ]
    }
  ]
}